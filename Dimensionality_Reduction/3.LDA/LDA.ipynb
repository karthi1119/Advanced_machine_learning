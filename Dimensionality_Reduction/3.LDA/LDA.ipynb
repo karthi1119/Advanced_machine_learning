{
 "cells": [
  {
   "cell_type": "code",
   "execution_count": 12,
   "id": "77bb61e1-876a-48e8-9100-ea73e67b10b5",
   "metadata": {},
   "outputs": [
    {
     "name": "stdout",
     "output_type": "stream",
     "text": [
      "     Logistic  SVMl  SVMnl   KNN  Naive  Decision  Random\n",
      "PCA      0.96  0.96   0.96  0.96   0.96      0.95    0.95\n"
     ]
    }
   ],
   "source": [
    "import pandas as pd\n",
    "from sklearn.model_selection import train_test_split\n",
    "from sklearn.preprocessing import StandardScaler\n",
    "from sklearn.discriminant_analysis import LinearDiscriminantAnalysis as LDA\n",
    "from sklearn.metrics import confusion_matrix, accuracy_score, classification_report\n",
    "from sklearn.linear_model import LogisticRegression\n",
    "from sklearn.svm import SVC\n",
    "from sklearn.naive_bayes import GaussianNB\n",
    "from sklearn.neighbors import KNeighborsClassifier\n",
    "from sklearn.tree import DecisionTreeClassifier\n",
    "from sklearn.ensemble import RandomForestClassifier\n",
    "\n",
    "dataset = pd.read_csv(\"CKD.csv\")\n",
    "df2 = pd.get_dummies(dataset, drop_first=True)\n",
    "indep_X = df2.drop('classification_yes', axis=1)\n",
    "dep_Y = df2['classification_yes']\n",
    "\n",
    "# Function to split the dataset and scale features\n",
    "def split_scalar(indep_X, dep_Y):\n",
    "    X_train, X_test, y_train, y_test = train_test_split(indep_X, dep_Y, test_size=0.25, random_state=0)\n",
    "    sc = StandardScaler()\n",
    "    X_train = sc.fit_transform(X_train)\n",
    "    X_test = sc.transform(X_test)\n",
    "    return X_train, X_test, y_train, y_test, sc\n",
    "\n",
    "# Feature selection using PCA\n",
    "lda=LDA(n_components=1)\n",
    "X_train = lda.fit_transform(X_train,y_train)\n",
    "X_test = lda.transform(X_test)\n",
    "\n",
    "\n",
    "\n",
    "# Function to compute confusion matrix, accuracy, and classification report\n",
    "def cm_prediction(classifier, X_test, y_test):\n",
    "    y_pred = classifier.predict(X_test)\n",
    "    cm = confusion_matrix(y_test, y_pred)\n",
    "    accuracy = accuracy_score(y_test, y_pred)\n",
    "    report = classification_report(y_test, y_pred)\n",
    "    return classifier, accuracy, report, cm\n",
    "\n",
    "# Classification functions\n",
    "def logistic(X_train, y_train, X_test, y_test):\n",
    "    classifier = LogisticRegression(random_state=0)\n",
    "    classifier.fit(X_train, y_train)\n",
    "    return cm_prediction(classifier, X_test, y_test)\n",
    "\n",
    "def svm_linear(X_train, y_train, X_test, y_test):\n",
    "    classifier = SVC(kernel='linear', random_state=0)\n",
    "    classifier.fit(X_train, y_train)\n",
    "    return cm_prediction(classifier, X_test, y_test)\n",
    "\n",
    "def svm_nl(X_train, y_train, X_test, y_test):\n",
    "    classifier = SVC(kernel='rbf', random_state=0)\n",
    "    classifier.fit(X_train, y_train)\n",
    "    return cm_prediction(classifier, X_test, y_test)\n",
    "\n",
    "def naive_bayes(X_train, y_train, X_test, y_test):\n",
    "    classifier = GaussianNB()\n",
    "    classifier.fit(X_train, y_train)\n",
    "    return cm_prediction(classifier, X_test, y_test)\n",
    "\n",
    "def knn(X_train, y_train, X_test, y_test):\n",
    "    classifier = KNeighborsClassifier(n_neighbors=5, metric='minkowski', p=2)\n",
    "    classifier.fit(X_train, y_train)\n",
    "    return cm_prediction(classifier, X_test, y_test)\n",
    "\n",
    "def decision_tree(X_train, y_train, X_test, y_test):\n",
    "    classifier = DecisionTreeClassifier(criterion='entropy', random_state=0)\n",
    "    classifier.fit(X_train, y_train)\n",
    "    return cm_prediction(classifier, X_test, y_test)\n",
    "\n",
    "def random_forest(X_train, y_train, X_test, y_test):\n",
    "    classifier = RandomForestClassifier(n_estimators=10, criterion='entropy', random_state=0)\n",
    "    classifier.fit(X_train, y_train)\n",
    "    return cm_prediction(classifier, X_test, y_test)\n",
    "\n",
    "\n",
    "# Initialize lists to store accuracies\n",
    "acclog = []\n",
    "accsvml = []\n",
    "accsvmnl = []\n",
    "accknn = []\n",
    "accnav = []\n",
    "accdes = []\n",
    "accrf = []\n",
    "\n",
    "# Logistic Regression\n",
    "classifier, Accuracy, report, cm = logistic(X_train, y_train, X_test, y_test)\n",
    "acclog.append(Accuracy)\n",
    "\n",
    "# SVM Linear\n",
    "classifier, Accuracy, report, cm = svm_linear(X_train, y_train, X_test, y_test)\n",
    "accsvml.append(Accuracy)\n",
    "\n",
    "# SVM Non-linear\n",
    "classifier, Accuracy, report, cm = svm_nl(X_train, y_train, X_test, y_test)\n",
    "accsvmnl.append(Accuracy)\n",
    "\n",
    "# KNN\n",
    "classifier, Accuracy, report, cm = knn(X_train, y_train, X_test, y_test)\n",
    "accknn.append(Accuracy)\n",
    "\n",
    "# Naive Bayes\n",
    "classifier, Accuracy, report, cm = naive_bayes(X_train, y_train, X_test, y_test)\n",
    "accnav.append(Accuracy)\n",
    "\n",
    "# Decision Tree\n",
    "classifier, Accuracy, report, cm = decision_tree(X_train, y_train, X_test, y_test)\n",
    "accdes.append(Accuracy)\n",
    "\n",
    "# Random Forest\n",
    "classifier, Accuracy, report, cm = random_forest(X_train, y_train, X_test, y_test)\n",
    "accrf.append(Accuracy)\n",
    "\n",
    "# Compile results\n",
    "results = [acclog[0], accsvml[0], accsvmnl[0], accknn[0], accnav[0], accdes[0], accrf[0]]\n",
    "result_df = pd.DataFrame([results], index=['PCA'], columns=['Logistic', 'SVMl', 'SVMnl', 'KNN', 'Naive', 'Decision', 'Random'])\n",
    "\n",
    "# Print results\n",
    "print(result_df)\n"
   ]
  },
  {
   "cell_type": "code",
   "execution_count": 8,
   "id": "c71787cc-c2e8-427e-87de-22b0497a51f5",
   "metadata": {},
   "outputs": [
    {
     "data": {
      "text/plain": [
       "(299, 1)"
      ]
     },
     "execution_count": 8,
     "metadata": {},
     "output_type": "execute_result"
    }
   ],
   "source": [
    "X_train.shape"
   ]
  },
  {
   "cell_type": "code",
   "execution_count": 9,
   "id": "5df65c92-2478-4b45-8c13-ba1c47f48178",
   "metadata": {},
   "outputs": [
    {
     "name": "stdout",
     "output_type": "stream",
     "text": [
      "        pc1\n",
      "0 -0.427490\n",
      "1  0.915283\n",
      "2  2.194134\n",
      "3 -2.737808\n",
      "4  2.373102\n"
     ]
    }
   ],
   "source": [
    "column_names=[]\n",
    "for i in range(1, X_train.shape[1]+1):\n",
    "    column_names.append(f'pc{i}')\n",
    "kpca_features=pd.DataFrame(X_train,columns=column_names)\n",
    "#showing the transformed features\n",
    "print(kpca_features.head())"
   ]
  },
  {
   "cell_type": "code",
   "execution_count": null,
   "id": "ae90adb9-4294-44e9-b402-0cd5b308b6e8",
   "metadata": {},
   "outputs": [],
   "source": []
  }
 ],
 "metadata": {
  "kernelspec": {
   "display_name": "Python 3 (ipykernel)",
   "language": "python",
   "name": "python3"
  },
  "language_info": {
   "codemirror_mode": {
    "name": "ipython",
    "version": 3
   },
   "file_extension": ".py",
   "mimetype": "text/x-python",
   "name": "python",
   "nbconvert_exporter": "python",
   "pygments_lexer": "ipython3",
   "version": "3.12.4"
  }
 },
 "nbformat": 4,
 "nbformat_minor": 5
}
